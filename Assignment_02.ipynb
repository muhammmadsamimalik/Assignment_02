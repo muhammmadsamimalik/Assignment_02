{
 "cells": [
  {
   "cell_type": "markdown",
   "id": "06e36a77-467c-4ea4-bc7e-0fb556954bdb",
   "metadata": {},
   "source": [
    "# Strings Assignment"
   ]
  },
  {
   "cell_type": "markdown",
   "id": "2c0712f2-3174-44e2-ad4f-c0351af33d0a",
   "metadata": {},
   "source": [
    "#### 1 .  Write a program that accepts a string from user. Your program should count and display number of vowels in that string. "
   ]
  },
  {
   "cell_type": "code",
   "execution_count": 2,
   "id": "4e83383b-b9eb-4718-9a8d-2edfc4fc2f41",
   "metadata": {},
   "outputs": [
    {
     "name": "stdin",
     "output_type": "stream",
     "text": [
      "Enter your string:  muhammad sami\n"
     ]
    },
    {
     "name": "stdout",
     "output_type": "stream",
     "text": [
      "Number of vowels: 5\n"
     ]
    }
   ],
   "source": [
    "string = input(\"Enter your string: \")\n",
    "vowels = \"aeiouAEIOU\"\n",
    "count = 0\n",
    "\n",
    "for i in string:\n",
    "    if i in vowels:\n",
    "        count += 1\n",
    "\n",
    "print(\"Number of vowels:\", count)\n"
   ]
  },
  {
   "cell_type": "markdown",
   "id": "728aa652-7870-4b09-8631-51825b2ef246",
   "metadata": {},
   "source": [
    "#### 2. Write a program that reads a string from keyboard and display: \n",
    "* The number of uppercase letters in the string \n",
    "* The number of lowercase letters in the string \n",
    "* The number of digits in the string \n",
    "* The number of whitespace characters in the string  "
   ]
  },
  {
   "cell_type": "code",
   "execution_count": 4,
   "id": "32556ca2-7790-4807-b3ea-5632f284dac4",
   "metadata": {},
   "outputs": [
    {
     "name": "stdin",
     "output_type": "stream",
     "text": [
      "type your string: muhmmad sami\n"
     ]
    },
    {
     "name": "stdout",
     "output_type": "stream",
     "text": [
      "Number of uppercase letter: 0\n",
      "Number of lowercase letter: 11\n",
      "Number of digits: 0\n",
      "Number of whitespace lettter: 1\n"
     ]
    }
   ],
   "source": [
    "string = input(\"type your string:\")\n",
    "\n",
    "uppercase = 0\n",
    "lowercase = 0\n",
    "digits = 0\n",
    "whitespace = 0\n",
    "\n",
    "for i in string:\n",
    "    if i.isupper():\n",
    "        uppercase += 1\n",
    "    elif i.islower():\n",
    "        lowercase += 1\n",
    "    elif i.isdigit():\n",
    "        digits += 1\n",
    "    elif i.isspace():\n",
    "        whitespace += 1\n",
    "\n",
    "print(\"Number of uppercase letter:\", uppercase)\n",
    "print(\"Number of lowercase letter:\", lowercase)\n",
    "print(\"Number of digits:\", digits)\n",
    "print(\"Number of whitespace lettter:\", whitespace)\n",
    "     \n"
   ]
  },
  {
   "cell_type": "markdown",
   "id": "7b75bce8-18b3-4889-a3e7-19fbd67a61a4",
   "metadata": {},
   "source": [
    "#### 3. Write a Python program that accepts a string from user. Your program should create and display a new string where the first and last characters have been exchanged. \n",
    "##### For example if the user enters the string 'HELLO' then new string would be 'OELLH' "
   ]
  },
  {
   "cell_type": "code",
   "execution_count": 7,
   "id": "ab7529af-be80-4457-a433-b0a034a8b59f",
   "metadata": {},
   "outputs": [
    {
     "name": "stdin",
     "output_type": "stream",
     "text": [
      "enter your string: e\n"
     ]
    },
    {
     "name": "stdout",
     "output_type": "stream",
     "text": [
      "New string: ee\n"
     ]
    }
   ],
   "source": [
    "string = input(\"enter your string:\")\n",
    "\n",
    "first = string[0]\n",
    "last = string[-1]\n",
    "middle = string[1:-1]\n",
    "new_string = last + middle + first\n",
    "print(\"New string:\", new_string)\n"
   ]
  },
  {
   "cell_type": "markdown",
   "id": "1f79fbe1-ab73-49d5-b4e3-97cd0dc11dd8",
   "metadata": {},
   "source": [
    "#### 4. Write a Python program that accepts a string from user. Your program should create a new string in reverse of first string and display it. \n",
    "##### For example if the user enters the string 'EXAM' then new string would be 'MAXE'  "
   ]
  },
  {
   "cell_type": "code",
   "execution_count": 8,
   "id": "28e33af5-4790-48e1-9718-1b01320a6f46",
   "metadata": {},
   "outputs": [
    {
     "name": "stdin",
     "output_type": "stream",
     "text": [
      "Enter your string: sami\n"
     ]
    },
    {
     "name": "stdout",
     "output_type": "stream",
     "text": [
      "reversed string: imas\n"
     ]
    }
   ],
   "source": [
    "string = input(\"Enter your string:\")\n",
    "new_string = string[::-1]\n",
    "print(\"reversed string:\", new_string)\n",
    "\n"
   ]
  },
  {
   "cell_type": "markdown",
   "id": "a68267c7-727c-48e0-a1f1-4e1a8c510872",
   "metadata": {},
   "source": [
    "#### 5. Write a Python program that accepts a string from user. Your program should create a new string by shifting one position to left. \n",
    "##### For example if the user enters the string 'examination 2021' then new string would be 'xamination 2021e'  "
   ]
  },
  {
   "cell_type": "code",
   "execution_count": 10,
   "id": "9dc33db7-211c-44ca-b896-bba77fee9b97",
   "metadata": {},
   "outputs": [
    {
     "name": "stdin",
     "output_type": "stream",
     "text": [
      "Enter your string: sami\n"
     ]
    },
    {
     "name": "stdout",
     "output_type": "stream",
     "text": [
      "New string: amis\n"
     ]
    }
   ],
   "source": [
    "string = input(\"Enter your string:\")\n",
    "first = string[0]\n",
    "middle = string[1:]\n",
    "new_string = middle + first\n",
    "print(\"New string:\", new_string)\n"
   ]
  },
  {
   "cell_type": "markdown",
   "id": "6c01b7af-d9c9-4236-ad7e-aa6b88a5b403",
   "metadata": {},
   "source": [
    "#### 6. Write a program that asks the user to input his name and print its initials. Assuming that the user always types first name, middle name and last name and does not include any unnecessary spaces. \n",
    "##### For example, if the user enters Ajay Kumar Garg the program should display A. K. G.\n",
    "##### Note:Don't use split() method  "
   ]
  },
  {
   "cell_type": "markdown",
   "id": "95d24e51-367a-43e3-96f1-9c4e5bee6633",
   "metadata": {},
   "source": []
  },
  {
   "cell_type": "code",
   "execution_count": 24,
   "id": "37ed6709-3bf4-4cec-9924-616b95ac980d",
   "metadata": {},
   "outputs": [
    {
     "name": "stdin",
     "output_type": "stream",
     "text": [
      "Enter your string: muhammad sami malik\n"
     ]
    },
    {
     "name": "stdout",
     "output_type": "stream",
     "text": [
      "initials: M. S. M. "
     ]
    }
   ],
   "source": [
    "string = input(\"Enter your string:\")\n",
    "\n",
    "print(\"initials:\", end=\" \")\n",
    "\n",
    "print(string[0].upper() + \".\", end=\" \")\n",
    "\n",
    "for i in range(len(string)):\n",
    "    if string[i] == \" \":\n",
    "        print(string[i+1].upper() + \".\", end=\" \")"
   ]
  },
  {
   "cell_type": "markdown",
   "id": "6c8cf88f-61e7-48d7-b81e-d0cd62dc8b84",
   "metadata": {},
   "source": [
    "#### 7. A palindrome is a string that reads the same backward as forward. For example, the words dad, madam and radar are all palindromes. Write a programs that determines whether the string is a palindrome. \n",
    "##### Note: do not use reverse() method  "
   ]
  },
  {
   "cell_type": "code",
   "execution_count": 25,
   "id": "7f138cb8-9647-43df-9adf-7890962139d0",
   "metadata": {},
   "outputs": [
    {
     "name": "stdin",
     "output_type": "stream",
     "text": [
      "Enter a string:  sami\n"
     ]
    },
    {
     "name": "stdout",
     "output_type": "stream",
     "text": [
      "The string is not a palindrome.\n"
     ]
    }
   ],
   "source": [
    "string = input(\"Enter a string: \")\n",
    "\n",
    "# reverse using slicing\n",
    "reversed_string = string[::-1]\n",
    "\n",
    "if string == reversed_string:\n",
    "    print(\"The string is a palindrome.\")\n",
    "else:\n",
    "    print(\"The string is not a palindrome.\")\n",
    "\n"
   ]
  },
  {
   "cell_type": "markdown",
   "id": "f2e83626-d5cc-496a-b175-d9e3b72e4092",
   "metadata": {},
   "source": [
    "#### 8. Write a program that display following output: \n",
    "- SHIFT \n",
    "- HIFTS \n",
    "- IFTSH \n",
    "- FTSHI \n",
    "- TSHIF \n",
    "- SHIFT "
   ]
  },
  {
   "cell_type": "code",
   "execution_count": 26,
   "id": "a16f7082-0cb9-4de4-b01c-d47c0d2fa9ee",
   "metadata": {},
   "outputs": [
    {
     "name": "stdout",
     "output_type": "stream",
     "text": [
      "SHIFT\n",
      "HIFTS\n",
      "IFTSH\n",
      "FTSHI\n",
      "TSHIF\n",
      "SHIFT\n"
     ]
    }
   ],
   "source": [
    "string = \"SHIFT\"\n",
    "\n",
    "for i in range(len(string) + 1):   # +1 to repeat the first word at the end\n",
    "    print(string)\n",
    "    # shift left: remove first char, add it to the end\n",
    "    string = string[1:] + string[0]\n",
    "\n",
    "\n"
   ]
  },
  {
   "cell_type": "code",
   "execution_count": null,
   "id": "79e15535-4994-4bb8-8923-42fb22f81c2a",
   "metadata": {},
   "outputs": [],
   "source": []
  }
 ],
 "metadata": {
  "kernelspec": {
   "display_name": "Python [conda env:base] *",
   "language": "python",
   "name": "conda-base-py"
  },
  "language_info": {
   "codemirror_mode": {
    "name": "ipython",
    "version": 3
   },
   "file_extension": ".py",
   "mimetype": "text/x-python",
   "name": "python",
   "nbconvert_exporter": "python",
   "pygments_lexer": "ipython3",
   "version": "3.13.5"
  }
 },
 "nbformat": 4,
 "nbformat_minor": 5
}
